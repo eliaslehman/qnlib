{
 "cells": [
  {
   "cell_type": "markdown",
   "metadata": {},
   "source": [
    "# Clifford Sampling\n",
    "\n",
    "Sampling random n-qudit Clifford circuits is at the core of the most popular benchmarking technique for quantum computers: Randomized Benchmarking."
   ]
  },
  {
   "cell_type": "code",
   "execution_count": null,
   "metadata": {},
   "outputs": [],
   "source": [
    "# Uncomment and run if the package has not been installed in the working environment.\n",
    "# %pip install -e .."
   ]
  },
  {
   "cell_type": "markdown",
   "metadata": {},
   "source": [
    "Qnlib supports generating random clifford via the `Tableau` class:"
   ]
  },
  {
   "cell_type": "code",
   "execution_count": null,
   "metadata": {},
   "outputs": [],
   "source": [
    "from qnlib.benchmarking import Tableau\n",
    "\n",
    "n_qudits = 3\n",
    "dimension = 3\n",
    "\n",
    "t = Tableau(n_qudits, dimension)\n",
    "t.populate_and_sweep(display=False) #set display to True to see Tableau steps\n",
    "print(t.circuit)"
   ]
  },
  {
   "cell_type": "markdown",
   "metadata": {},
   "source": [
    "These methods are wrapped by the `sample_clifford` function:"
   ]
  },
  {
   "cell_type": "code",
   "execution_count": null,
   "metadata": {},
   "outputs": [],
   "source": [
    "from qnlib.benchmarking import sample_clifford\n",
    "sample_clifford(n_qudits, dimension)"
   ]
  },
  {
   "cell_type": "markdown",
   "metadata": {},
   "source": [
    "We could generate entire n-qudit Clifford groups (if we were naïve and patient). The 11,520-element 2-qubit Clifford group is already stored in this directory. The 2-qutrit Clifford group takes at least several hours to generate."
   ]
  },
  {
   "cell_type": "code",
   "execution_count": null,
   "metadata": {},
   "outputs": [],
   "source": [
    "from qnlib.benchmarking import Tableau\n",
    "from cirq import MatrixGate, to_json\n",
    "import itertools\n",
    "import numpy as np\n",
    "n=2\n",
    "d=2\n",
    "t = Tableau(n, d)\n",
    "settings = t.enumerate_settings()\n",
    "all_pairs = [s for s in itertools.product(*settings)]\n",
    "print(len(all_pairs))\n",
    "\n",
    "circ_gen = t.generate_clifford_set()\n",
    "\n",
    "clifford_group = [MatrixGate(matrix=circ.unitary(), qid_shape=(d,)*int(np.emath.logn(d, len(circ.unitary()[0])))) for circ in circ_gen]\n",
    "\n",
    "to_json(clifford_group, f\"{n}_{d}d_clifford_group.json\")"
   ]
  }
 ],
 "metadata": {
  "kernelspec": {
   "display_name": "Python 3",
   "language": "python",
   "name": "python3"
  },
  "language_info": {
   "codemirror_mode": {
    "name": "ipython",
    "version": 3
   },
   "file_extension": ".py",
   "mimetype": "text/x-python",
   "name": "python",
   "nbconvert_exporter": "python",
   "pygments_lexer": "ipython3",
   "version": "3.10.5"
  }
 },
 "nbformat": 4,
 "nbformat_minor": 2
}
