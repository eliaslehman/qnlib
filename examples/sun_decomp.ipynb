{
 "cells": [
  {
   "cell_type": "markdown",
   "metadata": {},
   "source": [
    "# SU(N) Decomposition\n",
    "We can decompose unitary operators in SU(N) to SU(2) gates for hardware implementation. Consider a random Clifford circuit:"
   ]
  },
  {
   "cell_type": "code",
   "execution_count": null,
   "metadata": {},
   "outputs": [],
   "source": [
    "from qnlib.benchmarking import sample_clifford\n",
    "from qnlib.compiling import factor\n",
    "import numpy as np\n",
    "n=2 \n",
    "d=3 \n",
    "rand_circ = sample_clifford(num_qudits=n, dimension=d)\n",
    "print(rand_circ)\n",
    "\n",
    "circ_unitary = rand_circ.unitary()\n",
    "\n",
    "factored = factor(np.matrix(circ_unitary, dtype=np.clongdouble))"
   ]
  },
  {
   "cell_type": "markdown",
   "metadata": {},
   "source": [
    "We decompose it using the `elementary_gates` function from `qnlib.compiling`"
   ]
  },
  {
   "cell_type": "code",
   "execution_count": null,
   "metadata": {},
   "outputs": [],
   "source": [
    "from qnlib.compiling import elementary_gates\n",
    "\n",
    "rand_circuit_gates = elementary_gates(factored, n, d)"
   ]
  },
  {
   "cell_type": "code",
   "execution_count": null,
   "metadata": {},
   "outputs": [],
   "source": [
    "print(np.round(rand_circuit_gates[1],10))"
   ]
  },
  {
   "cell_type": "markdown",
   "metadata": {},
   "source": [
    "We can also reconstruct a unitary in SU(N) from the factors in SU(2)"
   ]
  },
  {
   "cell_type": "code",
   "execution_count": null,
   "metadata": {},
   "outputs": [],
   "source": [
    "from qnlib.compiling import reconstruct\n",
    "reconst = reconstruct(factored, d, n)"
   ]
  },
  {
   "cell_type": "code",
   "execution_count": null,
   "metadata": {},
   "outputs": [],
   "source": [
    "# Original circuit equals reconstructed circuit\n",
    "print(np.allclose(np.round(circ_unitary-reconst, 9),0))"
   ]
  }
 ],
 "metadata": {
  "kernelspec": {
   "display_name": "Python 3",
   "language": "python",
   "name": "python3"
  },
  "language_info": {
   "codemirror_mode": {
    "name": "ipython",
    "version": 3
   },
   "file_extension": ".py",
   "mimetype": "text/x-python",
   "name": "python",
   "nbconvert_exporter": "python",
   "pygments_lexer": "ipython3",
   "version": "3.10.5"
  }
 },
 "nbformat": 4,
 "nbformat_minor": 2
}
