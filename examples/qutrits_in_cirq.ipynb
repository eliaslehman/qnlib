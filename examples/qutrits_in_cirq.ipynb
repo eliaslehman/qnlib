{
 "cells": [
  {
   "cell_type": "markdown",
   "metadata": {},
   "source": [
    "# Introduction to Qudits using Google Cirq"
   ]
  },
  {
   "cell_type": "code",
   "execution_count": null,
   "metadata": {},
   "outputs": [],
   "source": [
    "import cirq\n",
    "import numpy as np\n",
    "import matplotlib.pyplot as plt\n",
    "from qnlib.gates.cliffords.utils import single_qutrit_cliffords\n",
    "from qnlib.utils.visualization import plot_gate_matrix"
   ]
  },
  {
   "cell_type": "code",
   "execution_count": null,
   "metadata": {},
   "outputs": [],
   "source": [
    "qutrit = cirq.LineQid(0, dimension=3)"
   ]
  },
  {
   "cell_type": "code",
   "execution_count": null,
   "metadata": {},
   "outputs": [],
   "source": [
    "clifford_gates = single_qutrit_cliffords()"
   ]
  },
  {
   "cell_type": "code",
   "execution_count": null,
   "metadata": {},
   "outputs": [],
   "source": [
    "circuit1 = cirq.Circuit()\n",
    "circuit1.append(clifford_gates.gates[1][0].on(qutrit))\n",
    "print(\"X gate:\", circuit1)"
   ]
  },
  {
   "cell_type": "code",
   "execution_count": null,
   "metadata": {},
   "outputs": [],
   "source": [
    "flattened_gates = [gate[0] for gate in clifford_gates.gates]\n",
    "random_gate = np.random.choice(flattened_gates)\n",
    "plot_gate_matrix(random_gate)\n",
    "plt.show()"
   ]
  },
  {
   "cell_type": "code",
   "execution_count": null,
   "metadata": {},
   "outputs": [],
   "source": [
    "simulator = cirq.Simulator()\n",
    "test_circuit = cirq.Circuit()\n",
    "random_gates = np.random.choice(flattened_gates, size=3, replace=False)"
   ]
  },
  {
   "cell_type": "code",
   "execution_count": null,
   "metadata": {},
   "outputs": [],
   "source": [
    "for gate in random_gates:\n",
    "    test_circuit.append(gate(qutrit))\n",
    "test_circuit.append(cirq.measure(qutrit, key=\"x\"))\n",
    "print(f'\\nRandom circuit: {test_circuit}')"
   ]
  },
  {
   "cell_type": "code",
   "execution_count": null,
   "metadata": {},
   "outputs": [],
   "source": [
    "result = simulator.run(test_circuit, repetitions=10)"
   ]
  },
  {
   "cell_type": "code",
   "execution_count": null,
   "metadata": {},
   "outputs": [],
   "source": [
    "unique, counts = np.unique(result.measurements['x'], return_counts=True)\n",
    "print(\"\\nMeasurement distribution:\")\n",
    "for state, count in zip(unique, counts):\n",
    "    print(f\"State {state}: {count}\")"
   ]
  }
 ],
 "metadata": {
  "kernelspec": {
   "display_name": "Python 3",
   "language": "python",
   "name": "python3"
  },
  "language_info": {
   "codemirror_mode": {
    "name": "ipython",
    "version": 3
   },
   "file_extension": ".py",
   "mimetype": "text/x-python",
   "name": "python",
   "nbconvert_exporter": "python",
   "pygments_lexer": "ipython3",
   "version": "3.10.5"
  }
 },
 "nbformat": 4,
 "nbformat_minor": 2
}
